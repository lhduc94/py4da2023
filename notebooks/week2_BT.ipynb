{
 "cells": [
  {
   "cell_type": "markdown",
   "metadata": {},
   "source": [
    "# Week 2 - Nhập môn Python"
   ]
  },
  {
   "cell_type": "markdown",
   "metadata": {},
   "source": [
    "## Ôn tập"
   ]
  },
  {
   "cell_type": "markdown",
   "metadata": {},
   "source": [
    "### Khai báo biến"
   ]
  },
  {
   "cell_type": "markdown",
   "metadata": {},
   "source": [
    "1. Khai báo một biến `tuoi` với giá trị là `25`\n",
    "\n",
    "2. In (print) ra biến `tuoi`\n",
    "\n",
    "3. Khai báo biến `can_nang`, `chieu_cao`, `quoc_tich` lần lượt là `50`, `170`, `\"vietnam\"` trong 1 dòng\n",
    "\n",
    "4. Sử dụng các biến trên, in ra câu sau `\"Tôi có cân nặng là 50, chiều cao là 170 và quốc tịch vietnam\"`\n",
    "\n",
    "5. Khai báo biến `bai_tho` với giá trị là bài thơ sau và in (print) biến sao cho mỗi câu thơ ở một dòng như dưới đây\n",
    "\n",
    ">Mơ khách đường xa, khách đường xa \\\n",
    ">Áo em trắng quá nhìn không ra... \\\n",
    ">Ở đây sương khói mờ nhân ảnh \\\n",
    ">Ai biết tình ai có đậm đà? "
   ]
  },
  {
   "cell_type": "code",
   "execution_count": 6,
   "metadata": {},
   "outputs": [
    {
     "name": "stdout",
     "output_type": "stream",
     "text": [
      "\n",
      "     \n",
      "\n"
     ]
    }
   ],
   "source": [
    "#1\n",
    "tuoi = __\n",
    "\n",
    "#2\n",
    "print(__)\n",
    "\n",
    "#3\n",
    "__, __, __ = __, __, __\n",
    "\n",
    "#4\n",
    "print(__, __, __, __, __, __)\n",
    "\n",
    "#5\n",
    "bai_tho = __\n",
    "print(bai_tho)"
   ]
  },
  {
   "cell_type": "markdown",
   "metadata": {},
   "source": [
    "<details><summary><b>Lời giải</b></summary>\n",
    "<p>\n",
    "\n",
    "```python\n",
    "#1\n",
    "tuoi = 25\n",
    "#2\n",
    "print(tuoi)\n",
    "#3\n",
    "can_nang, chieu_cao, quoc_tich = 50, 170, 'vietnam'\n",
    "#4\n",
    "print('Tôi có cân nặng là', can_nang, ', chiều cao là', chieu_cao, 'và quốc tịch', quoc_tich)\n",
    "#5\n",
    "bai_tho = '''\n",
    "Mơ khách đường xa, khách đường xa\n",
    "Áo em trắng quá nhìn không ra...\n",
    "Ở đây sương khói mờ nhân ảnh\n",
    "Ai biết tình ai có đậm đà?\n",
    "'''\n",
    "print(bai_tho)\n",
    "```\n",
    "</p></details>"
   ]
  },
  {
   "cell_type": "markdown",
   "metadata": {},
   "source": [
    "### Kiểu và ép kiểu dữ liệu"
   ]
  },
  {
   "cell_type": "markdown",
   "metadata": {},
   "source": [
    "1. Kiểm tra kiểu dữ liệu của biến `is_number`,  `number`, `float_number`, `string_number` và in (print) biến\n",
    "2. Ép kiểu biến `number` từ int sang float, sau đó lưu giá trị vào biến `number_float` và in biến đó cùng kiểu dữ liệu\n",
    "3. Ép kiểu biến `float_number` từ float sang int, sau đó lưu giá trị vào biến `int_number`  và in biến đó cùng kiểu dữ liệu\n",
    "4. Ép kiểu biến `string_number` từ str sang int, sau đó lưu giá trị vào biến `int_from_string`  và in biến đó cùng kiểu dữ liệu"
   ]
  },
  {
   "cell_type": "code",
   "execution_count": 5,
   "metadata": {},
   "outputs": [
    {
     "ename": "TypeError",
     "evalue": "'str' object is not callable",
     "output_type": "error",
     "traceback": [
      "\u001b[1;31m---------------------------------------------------------------------------\u001b[0m",
      "\u001b[1;31mTypeError\u001b[0m                                 Traceback (most recent call last)",
      "Cell \u001b[1;32mIn[5], line 2\u001b[0m\n\u001b[0;32m      1\u001b[0m is_number \u001b[38;5;241m=\u001b[39m \u001b[38;5;28;01mTrue\u001b[39;00m\n\u001b[1;32m----> 2\u001b[0m \u001b[38;5;28mprint\u001b[39m(\u001b[38;5;124m'\u001b[39m\u001b[38;5;124mBiến is_number có kiểu\u001b[39m\u001b[38;5;124m'\u001b[39m, \u001b[43m__\u001b[49m\u001b[43m(\u001b[49m\u001b[43m__\u001b[49m\u001b[43m)\u001b[49m)\n\u001b[0;32m      4\u001b[0m number \u001b[38;5;241m=\u001b[39m \u001b[38;5;241m10\u001b[39m\n\u001b[0;32m      5\u001b[0m \u001b[38;5;28mprint\u001b[39m(\u001b[38;5;124m'\u001b[39m\u001b[38;5;124mSố nguyên:\u001b[39m\u001b[38;5;124m'\u001b[39m, number, \u001b[38;5;124m'\u001b[39m\u001b[38;5;124mvới kiểu\u001b[39m\u001b[38;5;124m'\u001b[39m, __(__))\n",
      "\u001b[1;31mTypeError\u001b[0m: 'str' object is not callable"
     ]
    }
   ],
   "source": [
    "is_number = True\n",
    "print('Biến is_number có kiểu', __(__))\n",
    "\n",
    "number = 10\n",
    "print('Số nguyên:', number, 'với kiểu', __(__))\n",
    "number_float = __(__)\n",
    "print(\"Số nguyên sau khi ép kiểu thành số thực:\", number_float, 'với kiểu', __(__))\n",
    "\n",
    "float_number = 15.5\n",
    "print('Số thực', float_number)\n",
    "int_number = __(__)\n",
    "print(\"Số thực sau khi ép kiểu thành số nguyên:\", int_number, 'với kiểu', __(__))\n",
    "\n",
    "string_number = \"25\"\n",
    "print('Chuỗi', string_number, 'với kiểu', __(__))\n",
    "int_from_string = __(__)\n",
    "print(\"Số nguyên từ chuỗi:\", int_from_string, 'với kiểu', __(__))"
   ]
  },
  {
   "cell_type": "markdown",
   "metadata": {},
   "source": [
    "<details><summary><b>Lời giải</b></summary>\n",
    "<p>\n",
    "\n",
    "```python\n",
    "is_number = True\n",
    "print('Biến is_number có kiểu', type(is_number))\n",
    "# Ép kiểu từ int sang float và ngược lại\n",
    "number = 10\n",
    "print('Số nguyên:', number, 'với kiểu', type(number))\n",
    "number_float = float(number)\n",
    "print(\"Số nguyên sau khi ép kiểu thành số thực:\", number_float, 'với kiểu', type(number_float))\n",
    "\n",
    "\n",
    "float_number = 15.5\n",
    "print('Số thực', float_number)\n",
    "int_number = int(float_number)\n",
    "print(\"Số thực sau khi ép kiểu thành số nguyên:\", int_number, 'với kiểu', type(int_number))\n",
    "\n",
    "# Ép kiểu từ string sang int\n",
    "string_number = \"25\"\n",
    "print('Chuỗi', string_number, 'với kiểu', type(string_number))\n",
    "int_from_string = int(string_number)\n",
    "print(\"Số nguyên từ chuỗi:\", int_from_string, 'với kiểu', type(int_from_string))\n",
    "```\n",
    "\n",
    "<p></details>"
   ]
  },
  {
   "cell_type": "markdown",
   "metadata": {},
   "source": [
    "### Toán tử\n"
   ]
  },
  {
   "cell_type": "markdown",
   "metadata": {},
   "source": [
    "Với 2 biến a và b, thực hiện các phép toán sau và in ra kết quả\n",
    "\n",
    "1. Chia lấy phần nguyên\n",
    "2. Chia lấy phần dư\n",
    "3. Lũy thừa (mũ)\n",
    "4. So sánh 2 số có bằng nhau không\n",
    "    1. a có khác b không\n",
    "    2. a có lớn hơn b không\n",
    "5. Cộng 3vào giá trị biến a sử dụng toán tử += và in ra kết quả.\n",
    "6. Trừ 1 vào giá trị biến a sử dụng toán tử -= và in ra kết quả.\n",
    "7. Với 2 biến x và y, sử dụng toán tử or, and, not và in ra kết quả tương ứng"
   ]
  },
  {
   "cell_type": "code",
   "execution_count": 2,
   "metadata": {},
   "outputs": [
    {
     "name": "stdout",
     "output_type": "stream",
     "text": [
      "Phần nguyên của a chia b là: \n",
      "Phần dư của a chia b là: \n",
      "Lũy thừa của a mũ b là: \n",
      "a bằng b: \n",
      "a khác b: \n",
      "a lớn hơn b: \n",
      "a sau khi thêm 3: 5\n",
      "a sau khi trừ 4: 5\n",
      "Kết quả của x AND y là: \n",
      "Kết quả của x OR y là: \n",
      "Kết quả của NOT x là: True\n"
     ]
    }
   ],
   "source": [
    "a = 5\n",
    "b = 3\n",
    "\n",
    "# Chia lấy phần nguyên\n",
    "floor_division = __\n",
    "print(\"Phần nguyên của a chia b là:\", floor_division)\n",
    "\n",
    "# Chia lấy phần dư\n",
    "remainder = __\n",
    "print(\"Phần dư của a chia b là:\", remainder)\n",
    "\n",
    "# Lũy thừa\n",
    "power_result = __\n",
    "print(\"Lũy thừa của a mũ b là:\", power_result)\n",
    "\n",
    "# So sánh bằng\n",
    "result = __\n",
    "print(\"a bằng b:\", result)\n",
    "\n",
    "# So sánh khác nhau\n",
    "result = __\n",
    "print(\"a khác b:\", result)\n",
    "\n",
    "# So sánh lớn hơn\n",
    "result = __\n",
    "print(\"a lớn hơn b:\", result)\n",
    "\n",
    "# Gán và cộng +=\n",
    "__\n",
    "print(\"a sau khi thêm 3:\", a)\n",
    "\n",
    "# Gán và trừ +-\n",
    "__ \n",
    "print(\"a sau khi trừ 4:\", a)\n",
    "\n",
    "x = True\n",
    "y = False\n",
    "\n",
    "# Toán tử AND\n",
    "result = __ and __\n",
    "print(\"Kết quả của x AND y là:\", result)\n",
    "\n",
    "# Toán tử OR\n",
    "result = __ or __\n",
    "print(\"Kết quả của x OR y là:\", result)\n",
    "\n",
    "# Toán tử NOT\n",
    "result = not __\n",
    "print(\"Kết quả của NOT x là:\", result)"
   ]
  },
  {
   "cell_type": "markdown",
   "metadata": {},
   "source": [
    "<details><summary><b>Lời giải</b></summary>\n",
    "<p>\n",
    "\n",
    "```python\n",
    "a = 5\n",
    "b = 3\n",
    "# Chia lấy phần nguyên\n",
    "floor_division = a // b\n",
    "print(\"Phần nguyên của a chia b là:\", floor_division)\n",
    "\n",
    "# Chia lấy phần dư\n",
    "remainder = a % b\n",
    "print(\"Phần dư của a chia b là:\", remainder)\n",
    "\n",
    "# Lũy thừa\n",
    "power_result = a ** b\n",
    "print(\"Lũy thừa của a mũ b là:\", power_result)\n",
    "\n",
    "# So sánh bằng\n",
    "result = a == b\n",
    "print(\"a bằng b:\", result)\n",
    "\n",
    "# So sánh khác nhau\n",
    "result = a != b\n",
    "print(\"a khác b:\", result)\n",
    "\n",
    "# So sánh lớn hơn\n",
    "result = a > b\n",
    "print(\"a lớn hơn b:\", result)\n",
    "\n",
    "# Gán và cộng +=\n",
    "a += 3  # Tương đương với a = a + 3\n",
    "print(\"a sau khi thêm 3:\", a)\n",
    "\n",
    "# Gán và trừ +-\n",
    "a -= 4  # Tương đương với a = a - 4\n",
    "print(\"a sau khi trừ 4:\", a)\n",
    "\n",
    "x = True\n",
    "y = False\n",
    "\n",
    "# Toán tử AND\n",
    "result = x and y\n",
    "print(\"Kết quả của x AND y là:\", result)\n",
    "\n",
    "# Toán tử OR\n",
    "result = x or y\n",
    "print(\"Kết quả của x OR y là:\", result)\n",
    "\n",
    "# Toán tử NOT\n",
    "result = not x\n",
    "print(\"Kết quả của NOT x là:\", result)\n",
    "```\n",
    "</p> <details>"
   ]
  },
  {
   "cell_type": "markdown",
   "metadata": {},
   "source": [
    "1. Khởi tạo 2 biến `num1` và `num2` với 2 giá trị số nguyên (int) bất kì\n",
    "2. Tính tổng và tích giá trị của 2 biến `num1` và `num2`\n",
    "3. Kiểm tra xem giá tổng 2 biến có chia hết cho 3 và 5 hay không"
   ]
  },
  {
   "cell_type": "code",
   "execution_count": 3,
   "metadata": {},
   "outputs": [
    {
     "ename": "SyntaxError",
     "evalue": "invalid syntax (845342842.py, line 5)",
     "output_type": "error",
     "traceback": [
      "\u001b[1;36m  Cell \u001b[1;32mIn[3], line 5\u001b[1;36m\u001b[0m\n\u001b[1;33m    sum_result = __ __ __\u001b[0m\n\u001b[1;37m                    ^\u001b[0m\n\u001b[1;31mSyntaxError\u001b[0m\u001b[1;31m:\u001b[0m invalid syntax\n"
     ]
    }
   ],
   "source": [
    "#Khởi tạo 2 biến num1 và num2\n",
    "num1 = __\n",
    "num2 = __\n",
    "#Tính tổng\n",
    "sum_result = __ __ __\n",
    "\n",
    "#Tính tích\n",
    "product_result = __ __ __\n",
    "\n",
    "print(f\"Tổng là: {sum_result}, Tích là: {product_result}\")\n",
    "\n",
    "# Kiểm tra xem tổng và tích vừa tính có chia hết cho 3 và 5\n",
    "is_divisible = (sum_result % __ == 0) and (sum_result % __ == 0)\n",
    "print(f\"Số {sum_result} {'chia hết cho 3 và 5' if is_divisible else 'không chia hết cho 3 và 5'}\")"
   ]
  },
  {
   "cell_type": "markdown",
   "metadata": {},
   "source": [
    "<details><summary><b>Lời giải</b></summary>\n",
    "<p>\n",
    "\n",
    "```python\n",
    "# Bài 19\n",
    "num1 = 3\n",
    "num2 = 4\n",
    "sum_result = num1 + num2\n",
    "product_result = num1 * num2\n",
    "print(f\"Tổng là: {sum_result}, Tích là: {product_result}\")\n",
    "\n",
    "# Bài 20\n",
    "is_divisible = (sum_result % 3 == 0) and (sum_result % 5 == 0)\n",
    "print(f\"Số {sum_result} {'chia hết cho 3 và 5' if is_divisible else 'không chia hết cho 3 và 5'}\")\n",
    "```\n",
    "\n",
    "</p></details>"
   ]
  },
  {
   "cell_type": "markdown",
   "metadata": {},
   "source": [
    "Giả sử tỷ giá 1 usd đổi được 24 vnd\n",
    "Viết chương trình với\n",
    "\n",
    "input là số usd nhập vào từ bàn phím\n",
    "output là số vnd tương ứng\n",
    "Sử dụng input() để giá trị nhập từ bàn phím\n",
    "\n",
    "`a = input()` khi chạy câu này, a sẽ được gán với giá trị được nhập vào từ bàn phím"
   ]
  },
  {
   "cell_type": "code",
   "execution_count": 4,
   "metadata": {},
   "outputs": [
    {
     "name": "stdout",
     "output_type": "stream",
     "text": [
      "<class 'str'>\n"
     ]
    }
   ],
   "source": [
    "a = input()\n",
    "print(type(a))"
   ]
  },
  {
   "cell_type": "code",
   "execution_count": null,
   "metadata": {},
   "outputs": [],
   "source": [
    "USD = int(input(\"Input USD:\"))\n",
    "VND = __ * __\n",
    "print(__, \"USD = \", __, \"VND\")"
   ]
  },
  {
   "cell_type": "markdown",
   "metadata": {},
   "source": [
    "<details><summary><b>Lời giải</b></summary>\n",
    "<p>\n",
    "\n",
    "```python\n",
    "USD = int(input(\"Input USD: \"))\n",
    "VND = USD*24\n",
    "print(USD, \"USD = \", VND, \"VND\")\n",
    "```\n",
    "\n",
    "<p></details>"
   ]
  },
  {
   "cell_type": "markdown",
   "metadata": {},
   "source": [
    "### Cấu trúc dữ liệu cơ bản"
   ]
  },
  {
   "cell_type": "markdown",
   "metadata": {},
   "source": [
    "#### List\n"
   ]
  },
  {
   "cell_type": "markdown",
   "metadata": {},
   "source": [
    "cho List my_list = [1, 2, 3, 4, 5]\n",
    "\n",
    "1.  Truy cập phần tử đầu tiên\n",
    "2.  Truy cập phần tử cuối cùng\n",
    "3.  Lấy ra list [2,3,4] từ my_list\n",
    "4.  Lấy ra những phần tử có index 0 và chẵn: 0, 2, 4"
   ]
  },
  {
   "cell_type": "code",
   "execution_count": 5,
   "metadata": {},
   "outputs": [
    {
     "ename": "SyntaxError",
     "evalue": "invalid syntax (2756596472.py, line 4)",
     "output_type": "error",
     "traceback": [
      "\u001b[1;36m  Cell \u001b[1;32mIn[5], line 4\u001b[1;36m\u001b[0m\n\u001b[1;33m    first_element =\u001b[0m\n\u001b[1;37m                   ^\u001b[0m\n\u001b[1;31mSyntaxError\u001b[0m\u001b[1;31m:\u001b[0m invalid syntax\n"
     ]
    }
   ],
   "source": [
    "my_list = [1, 2, 3, 4, 5]\n",
    "\n",
    "# Truy cập phần tử đầu tiên\n",
    "first_element = my_list[__]\n",
    "print(\"Phần tử đầu tiên của list là:\", first_element)\n",
    "\n",
    "# Truy cập phần tử cuối cùng\n",
    "last_element = my_list[__]\n",
    "print(\"Phần tử cuối cùng của list là:\", last_element)\n",
    "\n",
    "# Truy cập một phần của list\n",
    "sliced_elements =  my_list[__:__]# Lấy ra list [2,3,4] từ my_list\n",
    "print(\"sliced list:\", sliced_elements)\n",
    "\n",
    "#Lấy phần tử index chẵn\n",
    "new_list =  my_list[::__]\n",
    "print(\"new list:\" new_list)"
   ]
  },
  {
   "cell_type": "markdown",
   "metadata": {},
   "source": [
    "<details><summary><b>Lời giải</b></summary>\n",
    "<p>\n",
    "\n",
    "```python\n",
    "my_list = [1, 2, 3, 4, 5]\n",
    "\n",
    "# Truy cập phần tử đầu tiên\n",
    "first_element = my_list[0]\n",
    "print(\"Phần tử đầu tiên của list là:\", first_element)\n",
    "\n",
    "# Truy cập phần tử cuối cùng\n",
    "last_element = my_list[-1]\n",
    "print(\"Phần tử cuối cùng của list là:\", last_element)\n",
    "\n",
    "# Truy cập một phần của list\n",
    "sliced_elements = my_list[1:4]  # Lấy ra list [2,3,4] từ my_list\n",
    "print(\"sliced list:\", sliced_elements)\n",
    "\n",
    "#Lấy phần tử index chẵn\n",
    "new_list = my_list[::2]\n",
    "print(\"new list:\", new_list)\n",
    "```\n",
    "\n",
    "</p></details>"
   ]
  },
  {
   "cell_type": "markdown",
   "metadata": {},
   "source": [
    "1. Thay đổi giá trị của phần 3 thành 10\n",
    "2. Kiểm tra xem giá trị 3 có tồn tại trong list không"
   ]
  },
  {
   "cell_type": "code",
   "execution_count": 6,
   "metadata": {},
   "outputs": [
    {
     "ename": "TypeError",
     "evalue": "list indices must be integers or slices, not str",
     "output_type": "error",
     "traceback": [
      "\u001b[1;31m---------------------------------------------------------------------------\u001b[0m",
      "\u001b[1;31mTypeError\u001b[0m                                 Traceback (most recent call last)",
      "Cell \u001b[1;32mIn[6], line 4\u001b[0m\n\u001b[0;32m      1\u001b[0m my_list \u001b[38;5;241m=\u001b[39m [\u001b[38;5;241m1\u001b[39m, \u001b[38;5;241m2\u001b[39m, \u001b[38;5;241m3\u001b[39m, \u001b[38;5;241m4\u001b[39m, \u001b[38;5;241m5\u001b[39m]\n\u001b[0;32m      3\u001b[0m \u001b[38;5;66;03m# Thay đổi giá trị của phần tử tại index 2\u001b[39;00m\n\u001b[1;32m----> 4\u001b[0m my_list[__] \u001b[38;5;241m=\u001b[39m __\n\u001b[0;32m      5\u001b[0m \u001b[38;5;28mprint\u001b[39m(\u001b[38;5;124m\"\u001b[39m\u001b[38;5;124mList sau khi thay đổi giá trị của phần tử tại index 2:\u001b[39m\u001b[38;5;124m\"\u001b[39m, my_list)\n\u001b[0;32m      7\u001b[0m \u001b[38;5;66;03m# Kiểm tra xem giá trị 3 có tồn tại trong list không\u001b[39;00m\n",
      "\u001b[1;31mTypeError\u001b[0m: list indices must be integers or slices, not str"
     ]
    }
   ],
   "source": [
    "my_list = [1, 2, 3, 4, 5]\n",
    "\n",
    "# Thay đổi giá trị của phần tử tại index 2\n",
    "my_list[__] = __\n",
    "print(\"List sau khi thay đổi giá trị của phần tử tại index 2:\", my_list)\n",
    "\n",
    "# Kiểm tra xem giá trị 3 có tồn tại trong list không\n",
    "print(\"Giá trị 3 có tồn tại trong list không:\", __ in __)"
   ]
  },
  {
   "cell_type": "markdown",
   "metadata": {},
   "source": [
    "<details><summary><b>Lời giải</b></summary>\n",
    "<p>\n",
    "\n",
    "```python\n",
    "my_list = [1, 2, 3, 4, 5]\n",
    "\n",
    "# Thay đổi giá trị của phần tử tại index 2\n",
    "my_list[2] = 10\n",
    "print(\"List sau khi thay đổi giá trị của phần tử tại index 2:\", my_list)\n",
    "# Kiểm tra xem giá trị 3 có tồn tại trong list không\n",
    "print(\"Giá trị 3 có tồn tại trong list không:\", 3 in my_list)\n"
   ]
  },
  {
   "cell_type": "markdown",
   "metadata": {},
   "source": [
    "\n",
    "1. Thêm một phần tử vào cuối list\n",
    "2. Xóa phần tử tại index=2\n",
    "3. Nối `list2` vào `list1`"
   ]
  },
  {
   "cell_type": "code",
   "execution_count": null,
   "metadata": {},
   "outputs": [],
   "source": [
    "my_list = [1, 2, 3, 4, 5]\n",
    "\n",
    "# Thêm một phần tử vào cuối list\n",
    "my_list.__(6)\n",
    "print(\"List sau khi thêm phần tử mới:\", my_list)\n",
    "\n",
    "# Xóa phần tử tại index 2\n",
    "del my_list[__]\n",
    "print(\"List sau khi xóa phần tử tại index 2:\", my_list)\n",
    "\n",
    "list1 = [1, 2, 3]\n",
    "list2 = [4, 5, 6]\n",
    "\n",
    "# Nối list2 vào list1\n",
    "list1.__(list2)\n",
    "print(\"List sau khi nối:\", list1)\n"
   ]
  },
  {
   "cell_type": "markdown",
   "metadata": {},
   "source": [
    "<details><summary><b>Lời giải</b></summary>\n",
    "<p>\n",
    "\n",
    "```python\n",
    "my_list = [1, 2, 3, 4, 5]\n",
    "\n",
    "# Thêm một phần tử vào cuối list\n",
    "my_list.append(6)\n",
    "print(\"List sau khi thêm phần tử mới:\", my_list)\n",
    "\n",
    "# Xóa phần tử tại index 2\n",
    "del my_list[2]\n",
    "print(\"List sau khi xóa phần tử tại index 2:\", my_list)\n",
    "\n",
    "list1 = [1, 2, 3]\n",
    "list2 = [4, 5, 6]\n",
    "\n",
    "# Nối list2 vào list1\n",
    "list1.extend(list2)\n",
    "print(\"List sau khi nối:\", list1)\n",
    "```\n",
    "\n",
    "</p></details>"
   ]
  },
  {
   "cell_type": "markdown",
   "metadata": {},
   "source": [
    "(Optional) Sử dùng hàm có sẵn để:\n",
    "\n",
    "1. Đếm số lần xuất hiện của một giá trị trong list, sử dụng phương thức `count()`\n",
    "2. Sắp xếp list\n",
    "3. Đảo ngược thứ tự của list"
   ]
  },
  {
   "cell_type": "code",
   "execution_count": 9,
   "metadata": {},
   "outputs": [
    {
     "ename": "AttributeError",
     "evalue": "'list' object has no attribute '__'",
     "output_type": "error",
     "traceback": [
      "\u001b[1;31m---------------------------------------------------------------------------\u001b[0m",
      "\u001b[1;31mAttributeError\u001b[0m                            Traceback (most recent call last)",
      "Cell \u001b[1;32mIn[9], line 4\u001b[0m\n\u001b[0;32m      2\u001b[0m \u001b[38;5;66;03m# Đếm số lần xuất hiện của một giá trị trong list, ví dụ giá trị 5\u001b[39;00m\n\u001b[0;32m      3\u001b[0m x \u001b[38;5;241m=\u001b[39m __\n\u001b[1;32m----> 4\u001b[0m count_x \u001b[38;5;241m=\u001b[39m \u001b[43mmy_list\u001b[49m\u001b[38;5;241;43m.\u001b[39;49m\u001b[43m__\u001b[49m(x)\n\u001b[0;32m      5\u001b[0m \u001b[38;5;28mprint\u001b[39m(\u001b[38;5;124mf\u001b[39m\u001b[38;5;124m\"\u001b[39m\u001b[38;5;124mSố lần xuất hiện của giá trị \u001b[39m\u001b[38;5;132;01m{\u001b[39;00mx\u001b[38;5;132;01m}\u001b[39;00m\u001b[38;5;124m trong list:\u001b[39m\u001b[38;5;124m\"\u001b[39m, count_x)\n\u001b[0;32m      7\u001b[0m \u001b[38;5;66;03m# Sắp xếp list\u001b[39;00m\n",
      "\u001b[1;31mAttributeError\u001b[0m: 'list' object has no attribute '__'"
     ]
    }
   ],
   "source": [
    "\n",
    "my_list = [5, 5, 3, 2, 3, 1]\n",
    "# Đếm số lần xuất hiện của một giá trị trong list, ví dụ giá trị 5\n",
    "x = __\n",
    "count_x = my_list.__(x)\n",
    "print(f\"Số lần xuất hiện của giá trị {x} trong list:\", count_x)\n",
    "\n",
    "# Sắp xếp list\n",
    "my_list.__()\n",
    "print(\"List sau khi sắp xếp:\", my_list)\n",
    "\n",
    "# Đảo ngược thứ tự của list\n",
    "my_list.__()\n",
    "print(\"List sau khi đảo ngược:\", my_list)"
   ]
  },
  {
   "cell_type": "markdown",
   "metadata": {},
   "source": [
    "<details><summary><b>Lời giải</b></summary>\n",
    "<p>\n",
    "\n",
    "```python\n",
    "my_list = [5,5,3,2,3,1]\n",
    "# Đếm số lần xuất hiện của một giá trị trong list\n",
    "x = 3\n",
    "count_x = my_list.count(x)\n",
    "print(f\"Số lần xuất hiện của giá trị {x} trong list:\", count_x)\n",
    "\n",
    "# Sắp xếp list\n",
    "my_list.sort()\n",
    "print(\"List sau khi sắp xếp:\", my_list)\n",
    "\n",
    "# Đảo ngược thứ tự của list\n",
    "my_list.reverse()\n",
    "print(\"List sau khi đảo ngược:\", my_list)\n",
    "```\n",
    "</p></details>"
   ]
  },
  {
   "cell_type": "markdown",
   "metadata": {},
   "source": [
    "#### Set"
   ]
  },
  {
   "cell_type": "markdown",
   "metadata": {},
   "source": [
    "1. Tạo một set chứa các môn học bạn học trong một kỳ học. In ra set đó. Kiểm tra kiểu dữ liệu của set vừa tạo\n",
    "\n",
    "2. Khởi tạo một biến với giá trị là tên một môn học khác. Thêm môn học mới vào set trên và in ra set sau khi thêm."
   ]
  },
  {
   "cell_type": "code",
   "execution_count": null,
   "metadata": {},
   "outputs": [],
   "source": [
    "# Tạo set\n",
    "subjects_set = {\"Toán\", \"Lý\", \"Hóa\", __, __}\n",
    "\n",
    "# In ra set\n",
    "print(__)\n",
    "# Kiểm tra kiểu dữ liệu của set. <class 'set'>\n",
    "print(__(__))\n",
    "\n",
    "# 2.\n",
    "#Khởi tạo biến với giá trị là môn học khác\n",
    "new_subject = __\n",
    "\n",
    "# Thêm môn học trên vào set subjects_set và xóa một môn học bất kì\n",
    "subjects_set.__(__)\n",
    "subjects_set.__(__)\n",
    "\n",
    "# In ra set sau khi thêm\n",
    "print(\"Danh sách môn học sau khi thêm:\", subjects_set)"
   ]
  },
  {
   "cell_type": "markdown",
   "metadata": {},
   "source": [
    "\n",
    "<details><summary><b>Lời giải</b></summary>\n",
    "<p>\n",
    "\n",
    "```python\n",
    "# Bài 32\n",
    "subjects_set = {\"Toán\", \"Lý\", \"Hóa\", \"Văn\", \"Anh\"}\n",
    "print(\"Danh sách môn học:\", subjects_set)\n",
    "print(type(subjects_set))\n",
    "\n",
    "# Bài 33\n",
    "new_subject = \"Âm nhạc\"\n",
    "subjects_set.add(new_subject)\n",
    "subjects_set.remove(\"Văn\")\n",
    "print(\"Danh sách môn học sau khi thêm:\", subjects_set)\n",
    "```\n",
    "\n",
    "</p></details>"
   ]
  },
  {
   "cell_type": "markdown",
   "metadata": {},
   "source": [
    "\n",
    "Cho 2 set `set1` và `set2`\n",
    "1. Tìm phần tử chung của 2 set\n",
    "2. Tạo một set gồm tất cả phần tử của 2 set\n",
    "\n",
    "Cho 2 set `set5` và `set6`. Tìm những kí tự nằm trong `set5` nhưng không nằm trong `set6`"
   ]
  },
  {
   "cell_type": "code",
   "execution_count": null,
   "metadata": {},
   "outputs": [],
   "source": [
    "set1 = {1, 2, 3, 4, 5}\n",
    "set2 = {3, 4, 5, 6, 7}\n",
    "\n",
    "#In ra phần tử chung\n",
    "intersection_result = __\n",
    "print(f\"Phép giao của hai set: {intersection_result}\")\n",
    "\n",
    "#In ra set gồm tất cả phần tử\n",
    "union_result = __\n",
    "print(f\"Phép hợp của hai set: {union_result}\")\n",
    "\n",
    "set5 = set(\"abcde\")\n",
    "set6 = set(\"cdefg\")\n",
    "#In ra kí tự nằm trong set5 mà không trong set6\n",
    "difference_result = __\n",
    "print(f\"Phép hiệu của hai set: {difference_result}\")"
   ]
  },
  {
   "cell_type": "markdown",
   "metadata": {},
   "source": [
    "<details><summary><b>Lời giải</b></summary>\n",
    "<p>\n",
    "\n",
    "```python\n",
    "# Bài 36\n",
    "set1 = {1, 2, 3, 4, 5}\n",
    "set2 = {3, 4, 5, 6, 7}\n",
    "intersection_result = set1.intersection(set2)\n",
    "print(f\"Phép giao của hai set: {intersection_result}\")\n",
    "\n",
    "# Bài 37\n",
    "set3 = {1, 2, 3, 4, 5, 6}\n",
    "set4 = {4, 5, 6, 7, 8}\n",
    "union_result = set3.union(set4)\n",
    "print(f\"Phép hợp của hai set: {union_result}\")\n",
    "\n",
    "# Bài 38\n",
    "set5 = set(\"abcde\")\n",
    "set6 = set(\"cdefg\")\n",
    "difference_result = set5.difference(set6)\n",
    "print(f\"Phép hiệu của hai set: {difference_result}\")\n",
    "\n",
    "```\n",
    "\n",
    "</p></details>\n"
   ]
  },
  {
   "cell_type": "markdown",
   "metadata": {},
   "source": [
    "#### Tuple\n"
   ]
  },
  {
   "cell_type": "markdown",
   "metadata": {},
   "source": [
    "\n",
    "1. Tạo tuple `subjects_tuple` với 3 môn học `Toan`, `Van`, `Anh`\n",
    "2. Không khai báo lại 3 môn trên, tạo tuple mới ` new_subject_tuple` với 3 môn học trong tuple `subjects_tuple` và thêm môn `Ly`"
   ]
  },
  {
   "cell_type": "code",
   "execution_count": null,
   "metadata": {},
   "outputs": [],
   "source": [
    "subjects_tuple = (__, __, __)\n",
    "number_of_elements = len(__)\n",
    "print(f\"Số lượng phần tử trong tuple là: {number_of_elements}\")\n",
    "\n",
    "new_subject_tuple  = subjects_tuple + (__,)\n",
    "print(\"Tuple sau khi thêm môn học mới:\", new_subject_tuple )"
   ]
  },
  {
   "cell_type": "markdown",
   "metadata": {},
   "source": [
    "<details><summary><b>Lời giải</b></summary>\n",
    "<p>\n",
    "\n",
    "```python\n",
    "# Bài 41\n",
    "subjects_tuple = (\"Toán\", \"Văn\", \"Anh\")\n",
    "number_of_elements = len(subjects_tuple)\n",
    "print(f\"Số lượng phần tử trong tuple là: {number_of_elements}\")\n",
    "\n",
    "# Bài 42\n",
    "new_subject_tuple  = subjects_tuple + (\"Lý\",)\n",
    "print(\"Tuple sau khi thêm môn học mới:\", new_subject_tuple )\n",
    "```\n",
    "\n",
    "</p></details>"
   ]
  },
  {
   "cell_type": "markdown",
   "metadata": {},
   "source": [
    "#### Dictionary\n"
   ]
  },
  {
   "cell_type": "markdown",
   "metadata": {},
   "source": [
    "1. Một sinh viên có thông tin như sau `tên` là `Nguyễn Văn A`, `tuổi` `20`, `điểm` `8.5`\n",
    "\n",
    "2. Tạo một dictionary chứa thông tin về một sinh viên với các thông tin như \"tên\", \"tuổi\", \"điểm\". In ra tên của sinh viên đó.\n",
    "\n",
    "3. Thêm số điện thoại 0123456789 vào thông tin\n",
    "\n",
    "4. Xóa thông tin về tuổi\n",
    "\n",
    "5. Thay đổi điểm thành 9.0"
   ]
  },
  {
   "cell_type": "code",
   "execution_count": null,
   "metadata": {},
   "outputs": [],
   "source": [
    "# 1\n",
    "student_info = {__:__, __:__, __:__}\n",
    "# 2\n",
    "student_name = student_info[__]\n",
    "print(f\"Tên của sinh viên là: {student_name}\")\n",
    "#3. Thêm số điện thoại 0123456789\n",
    "student_info[__] = __\n",
    "print(\"Dictionary sau khi thêm số điện thoại:\", student_info)\n",
    "#4. Xóa thông tin về tuổi\n",
    "del __[__]\n",
    "print(\"Dictionary sau khi xóa thông tin tuổi:\", student_info)\n",
    "#5. Thay đổi điểm thành 9.0\n",
    "student_info[__] = __\n",
    "print(\"Dictionary sau khi thay đổi điểm:\", student_info)"
   ]
  },
  {
   "cell_type": "markdown",
   "metadata": {},
   "source": [
    "<details><summary><b>Lời giải</b></summary>\n",
    "<p>\n",
    "\n",
    "```python\n",
    "#1\n",
    "student_info = {\"tên\": \"Nguyễn Văn A\", \"tuổi\": 20, \"điểm\": 8.5}\n",
    "\n",
    "#2\n",
    "student_name = student_info[\"tên\"]\n",
    "print(f\"Tên của sinh viên là: {student_name}\")\n",
    "\n",
    "#3\n",
    "student_info[\"số điện thoại\"] = \"0123456789\"\n",
    "print(\"Dictionary sau khi thêm số điện thoại:\", student_info)\n",
    "\n",
    "#4\n",
    "del student_info[\"tuổi\"]\n",
    "print(\"Dictionary sau khi xóa thông tin tuổi:\", student_info)\n",
    "\n",
    "#5\n",
    "student_info[\"điểm\"] = 9.0\n",
    "print(\"Dictionary sau khi thay đổi điểm:\", student_info)\n",
    "```\n",
    "\n",
    "</p></details>"
   ]
  },
  {
   "cell_type": "markdown",
   "metadata": {},
   "source": [
    "#### Chuỗi\n"
   ]
  },
  {
   "cell_type": "markdown",
   "metadata": {},
   "source": [
    "1. Tạo biến `my_name` với giá trị là một chuỗi chứa họ và tên theo thứ tự `first_name` + `last_name`  và in ra ký tự đầu tiên và cuối cùng trong chuỗi. Đếm số ký tự `my_name`\n",
    "3. Chuyển đổi chuỗi trên thành chuỗi in hoa và in ra kết quả. Sau đó thay `o` thành `x` trong chuỗi `John` để được `Jxhn`\n",
    "4. Với biến `age` = `25`, `grade` = `A` và in ra 2 chuỗi dưới đây sử dụng f-string.\n",
    "`Tôi đã 25 tuổi` và `Tên John, Điểm A`"
   ]
  },
  {
   "cell_type": "code",
   "execution_count": 10,
   "metadata": {},
   "outputs": [
    {
     "name": "stdout",
     "output_type": "stream",
     "text": [
      "Ký tự đầu tiên: , Ký tự cuối cùng: . Số ký tự là \n",
      "Chuỗi in hoa: \n",
      "Chuỗi sau khi thay thế: \n",
      "\n",
      "\n"
     ]
    }
   ],
   "source": [
    "# 1\n",
    "first_name = \"Anh\"\n",
    "last_name = \"Pham\"\n",
    "my_name = __\n",
    "\n",
    "first_char = __\n",
    "last_char = __\n",
    "# đếm số ký tự\n",
    "len_char = __\n",
    "print(f\"Ký tự đầu tiên: {first_char}, Ký tự cuối cùng: {last_char}. Số ký tự là {len_char}\")\n",
    "\n",
    "# 2\n",
    "uppercase_name = __\n",
    "print(f\"Chuỗi in hoa: {uppercase_name}\")\n",
    "\n",
    "modified_name =__\n",
    "print(f\"Chuỗi sau khi thay thế: {modified_name}\")\n",
    "\n",
    "# 3\n",
    "age = 25\n",
    "print(__) #Tôi đã 25 tuổi\n",
    "\n",
    "# 4\n",
    "grade = 'A'\n",
    "formatted_string =  __#Tên John, Điểm A sử dụng .format()\n",
    "print(formatted_string)"
   ]
  },
  {
   "cell_type": "markdown",
   "metadata": {},
   "source": [
    "<details><summary><b>Lời giải</b></summary>\n",
    "<p>\n",
    "\n",
    "```python\n",
    "#1\n",
    "first_name = \"Anh\"\n",
    "last_name = \"Pham\"\n",
    "my_name = first_name + \" \" + last_name\n",
    "\n",
    "first_char = my_name[0]\n",
    "last_char = my_name[-1]\n",
    "len_char = len(my_name)\n",
    "print(f\"Ký tự đầu tiên: {first_char}, Ký tự cuối cùng: {last_char}. Số ký tự là {len_char}\")\n",
    "\n",
    "# 2\n",
    "uppercase_name = my_name.upper()\n",
    "print(f\"Chuỗi in hoa: {uppercase_name}\")\n",
    "\n",
    "# 3\n",
    "modified_name = my_name.replace('a', 'x')\n",
    "print(f\"Chuỗi sau khi thay thế: {modified_name}\")\n",
    "\n",
    "# 4\n",
    "age = 25\n",
    "print(f\"Tôi đã {age} tuổi.\")\n",
    "\n",
    "# 5\n",
    "grade = 'A'\n",
    "formatted_string = \"Tên: {}, Điểm: {}\".format(my_name, grade)\n",
    "print(formatted_string)\n",
    "\n",
    "```\n",
    "</p></details>"
   ]
  },
  {
   "cell_type": "markdown",
   "metadata": {},
   "source": [
    "### Các phương thức trên dữ liệu datetime​\n"
   ]
  },
  {
   "cell_type": "markdown",
   "metadata": {},
   "source": [
    "1. In ra ngày hiện tại. Ví dụ như `2024-01-05`\n",
    "2. Cho biến `specific_date` ở dạng datetime. Chuyển thành str với format `yyyymmdd`\n",
    "3. Tính khoảng cách thời gian giữa hai ngày và in ra số ngày chênh lệch."
   ]
  },
  {
   "cell_type": "code",
   "execution_count": 11,
   "metadata": {},
   "outputs": [
    {
     "name": "stdout",
     "output_type": "stream",
     "text": [
      "Ngày hiện tại: \n",
      "<class 'str'>\n",
      "Thời gian yyyymmdd: \n",
      "Số ngày chênh lệch: \n"
     ]
    }
   ],
   "source": [
    "from datetime import datetime\n",
    "#1\n",
    "current_date = __\n",
    "print(f\"Ngày hiện tại: {current_date}\")\n",
    "print(type(current_date))\n",
    "\n",
    "#2\n",
    "specific_date = datetime(2022, 6, 30, 15, 30)\n",
    "yyyymmdd_date = __\n",
    "print(f\"Thời gian yyyymmdd: {yyyymmdd_date}\") #20220630\n",
    "\n",
    "#3\n",
    "date1 = datetime(2022, 1, 1)\n",
    "date2 = datetime(2022, 12, 31)\n",
    "days_difference = __\n",
    "print(f\"Số ngày chênh lệch: {days_difference}\")"
   ]
  },
  {
   "cell_type": "markdown",
   "metadata": {},
   "source": [
    "<details><summary><b>Lời giải</b></summary>\n",
    "<p>\n",
    "\n",
    "```python\n",
    "from datetime import datetime\n",
    "\n",
    "#1\n",
    "current_time = datetime.now()\n",
    "current_date = current_time.date()\n",
    "print(f\"Ngày hiện tại: {current_date}\")\n",
    "print(type(current_date))\n",
    "\n",
    "#2\n",
    "specific_date = datetime(2022, 6, 30, 15, 30)\n",
    "yyyymmdd_date = specific_date.strftime('%Y%m%d')\n",
    "print(f\"Thời gian yyyymmdd: {yyyymmdd_date}\")\n",
    "\n",
    "#3\n",
    "date1 = datetime(2022, 1, 1)\n",
    "date2 = datetime(2022, 12, 31)\n",
    "time_difference = date2 - date1\n",
    "days_difference = time_difference.days\n",
    "print(f\"Số ngày chênh lệch: {days_difference}\")\n",
    "\n",
    "```\n",
    "\n",
    "</p></details>"
   ]
  },
  {
   "cell_type": "markdown",
   "metadata": {},
   "source": [
    "### If Else\n"
   ]
  },
  {
   "cell_type": "markdown",
   "metadata": {},
   "source": [
    "Viết một chương trình kiểm tra xem một số nhập từ người dùng `user_number`\n",
    "\n",
    "1. Nếu là số chẵn, in ra chuỗi: Số `user_number` là số chẵn\n",
    "\n",
    "2. Nếu là số lẻ, in ra chuỗi: Số `user_number` là số lẻ\n",
    "\n",
    "3. Nếu là số 0, in ra chuỗi: `bạn vừa nhập vào số 0`\n",
    "\n",
    "Ví dụ nếu người dùng nhập vào số 2 thì chương trình sẽ in ra `Số 2 là số chẵn`"
   ]
  },
  {
   "cell_type": "code",
   "execution_count": 12,
   "metadata": {},
   "outputs": [
    {
     "ename": "SyntaxError",
     "evalue": "invalid syntax (2860647953.py, line 4)",
     "output_type": "error",
     "traceback": [
      "\u001b[1;36m  Cell \u001b[1;32mIn[12], line 4\u001b[1;36m\u001b[0m\n\u001b[1;33m    elif user_number __:\u001b[0m\n\u001b[1;37m                     ^\u001b[0m\n\u001b[1;31mSyntaxError\u001b[0m\u001b[1;31m:\u001b[0m invalid syntax\n"
     ]
    }
   ],
   "source": [
    "user_number = int(input(\"Nhập một số nguyên: \"))\n",
    "if user_number % __:\n",
    "    print(f\"Số {user_number} là số chẵn.\")\n",
    "elif user_number __:\n",
    "    print(f\"Bạn vừa nhập vào số 0\")\n",
    "else:\n",
    "    print(f\"Số {user_number} là số lẻ.\")"
   ]
  },
  {
   "cell_type": "markdown",
   "metadata": {},
   "source": [
    "<details><summary><b>Lời giải</b></summary>\n",
    "<p>\n",
    "\n",
    "```python\n",
    "# Bài 59\n",
    "user_number = int(input(\"Nhập một số nguyên: \"))\n",
    "if user_number % 2 == 0:\n",
    "    print(f\"Số {user_number} là số chẵn.\")\n",
    "elif user_number == 0:\n",
    "    print(f\"Bạn vừa nhập vào số 0\")\n",
    "else:\n",
    "    print(f\"Số {user_number} là số lẻ.\")\n",
    "```\n",
    "\n",
    "</p></details>"
   ]
  },
  {
   "cell_type": "markdown",
   "metadata": {},
   "source": [
    "### Vòng Lặp - for\n"
   ]
  },
  {
   "cell_type": "markdown",
   "metadata": {},
   "source": [
    "1. Sử dụng hàm `range()` và vòng for để in ra số chẵn từ 0 đến 20 (bao gồm cả số 0 và 20)\n",
    "2. Tính tổng các số chẵn từ 0 đến 20 sử dụng vòng for\n",
    "3. Sử dụng vòng lặp `for` in ra các số chẵn từ 0 đến 20, nhưng bỏ qua các số chia hết cho 7 và dừng vòng lặp khi đến số 18"
   ]
  },
  {
   "cell_type": "code",
   "execution_count": 13,
   "metadata": {},
   "outputs": [
    {
     "ename": "SyntaxError",
     "evalue": "invalid syntax (4069692801.py, line 10)",
     "output_type": "error",
     "traceback": [
      "\u001b[1;36m  Cell \u001b[1;32mIn[13], line 10\u001b[1;36m\u001b[0m\n\u001b[1;33m    sum_result __ __\u001b[0m\n\u001b[1;37m               ^\u001b[0m\n\u001b[1;31mSyntaxError\u001b[0m\u001b[1;31m:\u001b[0m invalid syntax\n"
     ]
    }
   ],
   "source": [
    "my_range = range(_,_,_)\n",
    "\n",
    "# 1\n",
    "for i in __:\n",
    "    print(i)\n",
    "\n",
    "# 2\n",
    "sum_result = 0\n",
    "for i in __:\n",
    "    sum_result __ __\n",
    "print(f\"Tổng các số chẵn từ 0 đến 20 là: {sum_result}\")\n",
    "\n",
    "# 3\n",
    "for i in __:\n",
    "    if __:\n",
    "      continue\n",
    "    elif __:\n",
    "      break\n",
    "    print(i)"
   ]
  },
  {
   "cell_type": "markdown",
   "metadata": {},
   "source": [
    "<details><summary><b>Lời giải</b></summary>\n",
    "<p>\n",
    "\n",
    "```python\n",
    "my_range = range(0, 21, 2)\n",
    "\n",
    "#1\n",
    "for i in my_range:\n",
    "    print(i)\n",
    "\n",
    "#2\n",
    "sum_result = 0\n",
    "for i in my_range:\n",
    "    sum_result += i\n",
    "print(f\"Tổng các số chẵn từ 0 đến 20 là: {sum_result}\")\n",
    "\n",
    "#3\n",
    "for i in my_range:\n",
    "    if i % 7 == 0:\n",
    "      continue\n",
    "    elif i ==18:\n",
    "      break\n",
    "    print(i)\n",
    "```\n",
    "\n",
    "</p></details>"
   ]
  },
  {
   "cell_type": "markdown",
   "metadata": {},
   "source": [
    "### Function\n"
   ]
  },
  {
   "cell_type": "markdown",
   "metadata": {},
   "source": [
    "1. Viết hàm tính diện tích hình thang (trapezoid)\n",
    "\n",
    "Công thức diện tích hình thang: $\\frac{1}{2}$ * chiều cao * đáy 1 * đáy 2\n"
   ]
  },
  {
   "cell_type": "code",
   "execution_count": 14,
   "metadata": {},
   "outputs": [
    {
     "name": "stdout",
     "output_type": "stream",
     "text": [
      "The area of the trapezoid is: \n"
     ]
    }
   ],
   "source": [
    "def calculate_trapezoid_area(base1, base2, height):\n",
    "    \"\"\"\n",
    "    Tính diện tích hình thang\n",
    "\n",
    "    Parameters:\n",
    "    - base1: Chiều dài đáy 1.\n",
    "    - base2: Chiều dài đáy 2.\n",
    "    - height: Chiều cao giữa 2 đáy.\n",
    "\n",
    "    Returns:\n",
    "    - area: Diện tích của hình thang.\n",
    "    \"\"\"\n",
    "    area = __\n",
    "    return area\n",
    "\n",
    "#Test:\n",
    "base1_length = 2.4\n",
    "base2_length = 3.6\n",
    "trapezoid_height = 4\n",
    "\n",
    "trapezoid_area = calculate_trapezoid_area(base1_length, base2_length, trapezoid_height)\n",
    "print(\"The area of the trapezoid is:\", trapezoid_area)\n",
    "#Kết quả in ra: The area of the trapezoid is: 12.0"
   ]
  },
  {
   "cell_type": "markdown",
   "metadata": {},
   "source": [
    "<details><summary><b>Lời giải</b></summary>\n",
    "<p>\n",
    "\n",
    "```python\n",
    "def calculate_trapezium_area(base1, base2, height):\n",
    "    \"\"\"\n",
    "    Tính diện tích hình thang\n",
    "\n",
    "    Parameters:\n",
    "    - base1: Chiều dài đáy 1.\n",
    "    - base2: Chiều dài đáy 2.\n",
    "    - height: Chiều cao giữa 2 đáy.\n",
    "\n",
    "    Returns:\n",
    "    - area: Diện tích của hình thang.\n",
    "    \"\"\"\n",
    "    area = 0.5 * (base1 + base2) * height\n",
    "    return area\n",
    "\n",
    "#Test:\n",
    "base1_length = float(2.4)\n",
    "base2_length = float(3.6)\n",
    "trapezium_height = float(4)\n",
    "\n",
    "trapezium_area = calculate_trapezium_area(base1_length, base2_length, trapezium_height)\n",
    "print(\"The area of the trapezium is:\", trapezium_area)\n",
    "#Kết quả in ra: The area of the trapezium is: 12.0\n",
    "```\n",
    "\n",
    "<details><summary><b>Lời giải</b></summary>\n",
    "<p>\n"
   ]
  },
  {
   "cell_type": "markdown",
   "metadata": {},
   "source": [
    "2. Viết hàm `filter_numbers(x)` nhận vào 1 list `x` và trả về 1 list gồm các phần tử là số (int, float) của `x`\n"
   ]
  },
  {
   "cell_type": "code",
   "execution_count": 15,
   "metadata": {},
   "outputs": [
    {
     "name": "stdout",
     "output_type": "stream",
     "text": [
      "None\n"
     ]
    }
   ],
   "source": [
    "def filter_numbers(x):\n",
    "\n",
    "  return\n",
    "\n",
    "#Test\n",
    "result = filter_numbers([1, 2, 'A', True, -1, -2.5, 7, [1, 2], False])\n",
    "print(result)\n",
    "# Kết quả in ra: [1, 2, -1, -2.5, 7]"
   ]
  },
  {
   "cell_type": "markdown",
   "metadata": {},
   "source": [
    "<details><summary><b>Lời giải</b></summary>\n",
    "<p>\n",
    "\n",
    "```python\n",
    "def filter_numbers(x):\n",
    "    num_list=[]\n",
    "    for i in x:\n",
    "      if type(i) == int or type(i) == float:\n",
    "        num_list.append(i)\n",
    "    return num_list\n",
    "\n",
    "result = filter_numbers([1, 2, 'A', True, -1, -2.5, 7, [1, 2], False])\n",
    "print(result)\n",
    "```\n",
    "\n",
    "</p></details>"
   ]
  },
  {
   "cell_type": "markdown",
   "metadata": {},
   "source": [
    "## Bài tập"
   ]
  },
  {
   "cell_type": "markdown",
   "metadata": {},
   "source": [
    "### TONG_N_SO\n"
   ]
  },
  {
   "cell_type": "markdown",
   "metadata": {},
   "source": [
    "Vết hàm tính Tổng từ 1 đến số nguyên dương `n` cho trước\n",
    "\n",
    "```python\n",
    "def sum_1_to_n(n):\n",
    "    ..\n",
    "    return __\n",
    "```\n",
    "\n",
    "Test case:\n",
    "\n",
    "|Ví dụ|Kết quả|\n",
    "|:--|:----------|\n",
    "|`sum_1_to_n(5)`|15|\n",
    "|`sum_1_to_n(100)`|5050|\n",
    "\n",
    "**Lưu ý**: không sử dụng công thức `n*(n+1)//2` \n"
   ]
  },
  {
   "cell_type": "code",
   "execution_count": 16,
   "metadata": {},
   "outputs": [
    {
     "ename": "SyntaxError",
     "evalue": "invalid syntax (3297652605.py, line 2)",
     "output_type": "error",
     "traceback": [
      "\u001b[1;36m  Cell \u001b[1;32mIn[16], line 2\u001b[1;36m\u001b[0m\n\u001b[1;33m    ..\u001b[0m\n\u001b[1;37m    ^\u001b[0m\n\u001b[1;31mSyntaxError\u001b[0m\u001b[1;31m:\u001b[0m invalid syntax\n"
     ]
    }
   ],
   "source": [
    "def sum_1_to_n(n):\n",
    "    ..\n",
    "    return __"
   ]
  },
  {
   "cell_type": "markdown",
   "metadata": {},
   "source": [
    "<details><summary><b>Lời giải</b></summary>\n",
    "<p>\n",
    "\n",
    "```python\n",
    "def sum_1_to_n(n):\n",
    "    answer = 0\n",
    "    for i in range(1, n+1):\n",
    "        answer += i\n",
    "    return answer\n",
    "```\n",
    "</p></details>"
   ]
  },
  {
   "cell_type": "markdown",
   "metadata": {},
   "source": [
    "### GIAI_THUA\n"
   ]
  },
  {
   "cell_type": "markdown",
   "metadata": {},
   "source": [
    "\n",
    "Viết hàm tìm Giai thừa của một số nguyên dương `n` theo công thức\n",
    "\n",
    "$n! = 1 \\times 2 \\times 3 \\times .. \\times (n-1) \\times n$\n",
    "\n",
    "```python\n",
    "def findGT(n):\n",
    "    ...\n",
    "    return _\n",
    "```\n",
    "\n",
    "Test case:\n",
    "\n",
    "|Ví dụ|Kết quả|\n",
    "|:--|:----------|\n",
    "|`findGT(5)`|120|\n",
    "|`findGT(7)`|5040|\n",
    "\n",
    "**Lưu ý**: không sử dụng hàm cho sẵn `math.factorial(n)` "
   ]
  },
  {
   "cell_type": "code",
   "execution_count": null,
   "metadata": {},
   "outputs": [],
   "source": [
    "def findGT(n):\n",
    "    ...\n",
    "    return _"
   ]
  },
  {
   "cell_type": "markdown",
   "metadata": {},
   "source": [
    "<details><summary><b>Lời giải</b></summary>\n",
    "<p>\n",
    "\n",
    "```python\n",
    "def findGT(n):\n",
    "    answer = 1\n",
    "    for i in range(1, n+1):\n",
    "        answer *= i\n",
    "    return answer\n",
    "```\n",
    "\n",
    "</p></details>"
   ]
  },
  {
   "cell_type": "markdown",
   "metadata": {},
   "source": [
    "### CHIA_CHO_5\n"
   ]
  },
  {
   "cell_type": "markdown",
   "metadata": {},
   "source": [
    "Viết hàm tìm tất cả các số chia hết cho 5 nhưng không chia hết cho 15 nằm trong đoạn từ `[a, b]` với điều kiện `a>0, b>0`. Kết quả trả về là một danh sách\n",
    "\n",
    "```python\n",
    "def find(a, b):\n",
    "    for i in range(__, __):\n",
    "        if __:\n",
    "            ..\n",
    "            ..\n",
    "        ..\n",
    "    return _\n",
    "```\n",
    "\n",
    "**Test case**\n",
    "\n",
    "|Ví dụ|Kết quả|\n",
    "|:--|:----------|\n",
    "|`find(1, 40)`|[5, 10, 20, 25, 35, 40]|\n",
    "|`find(10, 100)`|[10, 20, 25, 35, 40, 50, 55, 65, 70, 80, 85, 95, 100]|"
   ]
  },
  {
   "cell_type": "code",
   "execution_count": null,
   "metadata": {},
   "outputs": [],
   "source": [
    "def find(a, b):\n",
    "    for i in range(__, __):\n",
    "        if __:\n",
    "            ..\n",
    "            ..\n",
    "        ..\n",
    "    return _"
   ]
  },
  {
   "cell_type": "markdown",
   "metadata": {},
   "source": [
    "<details><summary><b>Lời giải</b></summary>\n",
    "<p>\n",
    "\n",
    "```python\n",
    "def find(a, b):\n",
    "    answer = []\n",
    "    for i in range(a, b + 1):\n",
    "        if (i % 5 == 0) & (i % 3 != 0):\n",
    "            answer.append(i)\n",
    "    return answer\n",
    "```\n",
    "</p></details>"
   ]
  },
  {
   "cell_type": "markdown",
   "metadata": {},
   "source": [
    "### PARSE_STRING_01\n"
   ]
  },
  {
   "cell_type": "markdown",
   "metadata": {},
   "source": [
    "Viết một hàm nhận đầu vào là một danh sách các số nguyên dưới dạng chuỗi và đầu ra là một danh sách\n",
    "\n",
    "```python\n",
    "def parseString(l):\n",
    "    ..\n",
    "    ..\n",
    "    return\n",
    "```\n",
    "**Test case**\n",
    "\n",
    "|Ví dụ|Kết quả|\n",
    "|:--|:----------|\n",
    "|`parseString(\"[1, 2, 3, 4, 5]\")`|[1, 2, 3, 4, 5]|\n",
    "|`parseString(\"[-1, -2]\")`|[-1, -2]|\n",
    "|`parseString(\"[0]\")`|[0]|"
   ]
  },
  {
   "cell_type": "code",
   "execution_count": null,
   "metadata": {},
   "outputs": [],
   "source": [
    "def parseString(l):\n",
    "    ..\n",
    "    ..\n",
    "    return"
   ]
  },
  {
   "cell_type": "markdown",
   "metadata": {},
   "source": [
    "<details><summary><b>Lời giải</b></summary>\n",
    "<p>\n",
    "\n",
    "```python\n",
    "def parseString(l):\n",
    "    items = l.split(',')\n",
    "    answer = []\n",
    "    for i in range(len(items)):\n",
    "        item = items[i].replace('[','').replace(']','').strip() \n",
    "        item = int(item)\n",
    "        answer.append(item)\n",
    "    return answer\n",
    "```\n",
    "</p></details>"
   ]
  },
  {
   "cell_type": "markdown",
   "metadata": {},
   "source": [
    "### ATM"
   ]
  },
  {
   "cell_type": "markdown",
   "metadata": {},
   "source": [
    "Giả sử bạn đang code thuật toán cho máy ATM với một số tiền vô hạn.\n",
    "ATM có các đồng tiền với mệnh giá 50 20 10 5 2 1.\n",
    "Yêu cầu viết thuật toán nhận lệnh số tiền `money` và trả ra số tờ tiền ít nhất\n",
    "\n",
    "\n",
    "```python\n",
    "def ATM(money):\n",
    "    l = [50, 20, 10, 5, 2, 1]\n",
    "    ..\n",
    "    ..\n",
    "    return __\n",
    "```\n",
    "\n",
    "**Test case**\n",
    "\n",
    "|Ví dụ|Kết quả|\n",
    "|:--|:----------|\n",
    "|`ATM(100)`|2 <br> Giải thích: 100 chỉ cần 2 tờ mệnh giá 50\"|\n",
    "|`ATM(121)`|4 <br> Giải thích: 121 = 50 * 2 + 20 * 1 + 1 * 1|"
   ]
  },
  {
   "cell_type": "code",
   "execution_count": null,
   "metadata": {},
   "outputs": [],
   "source": [
    "def ATM(money):\n",
    "    l = [50, 20, 10, 5, 2, 1]\n",
    "    ..\n",
    "    ..\n",
    "    return __"
   ]
  },
  {
   "cell_type": "markdown",
   "metadata": {},
   "source": [
    "<details><summary><b>Lời giải</b></summary>\n",
    "<p>\n",
    "\n",
    "```python\n",
    "def ATM(money):\n",
    "    l = [50, 20, 10, 5, 2, 1]\n",
    "    answer = [0, 0, 0, 0, 0, 0]\n",
    "    for i in range(len(l)):\n",
    "        answer[i] = money // l[i]\n",
    "        money = money % l[i]\n",
    "    return sum(answer)\n",
    "```\n",
    "</p></details>"
   ]
  },
  {
   "cell_type": "markdown",
   "metadata": {},
   "source": [
    "### CONG_THUC_01\n"
   ]
  },
  {
   "cell_type": "markdown",
   "metadata": {},
   "source": [
    "Chúng ta hay gặp công thức như minh họa (công thức tính trung bình)\n",
    "\n",
    "$$ \n",
    "\\Large \\frac{1}{n}\\sum_{i=1}^{n}y_i = \\frac{1}{n}(y_1 + y_2 + ... + y_n)\n",
    "$$\n",
    "\n",
    "Yêu cầu viết một hàm tính arithmetic mean theo công thức trên, Với kí hiệu $\\sum_{i=1}^{n}$ là tổng một cái gì đó từ 1 đến n. $y_i$ là giá trị của danh sách $Y$ tại vị trí thứ $i$\n",
    "\n",
    "Lưu ý: Python index bắt đầu từ 0, nhưng trong toán học sẽ bắt đầu từ 1\n",
    "\n",
    "```python\n",
    "def calculate_arithmetic_mean(Y):\n",
    "    answer = 0\n",
    "    n = __\n",
    "    for i in range(__):\n",
    "        ..\n",
    "    return answer\n",
    "```\n",
    "\n",
    "\n",
    "**Test case**\n",
    "\n",
    "|Ví dụ|Kết quả|\n",
    "|:--|:----------|\n",
    "|`calculate_arithmetic_mean([1, 2, 3, 4, 5])`|3.0|\n",
    "|`calculate_arithmetic_mean([2, 4, 6, 8])`|5.0|"
   ]
  },
  {
   "cell_type": "code",
   "execution_count": null,
   "metadata": {},
   "outputs": [],
   "source": [
    "def calculate_arithmetic_mean(Y):\n",
    "    answer = 0\n",
    "    n = __\n",
    "    for i in range(__):\n",
    "        ..\n",
    "    return answer"
   ]
  },
  {
   "cell_type": "markdown",
   "metadata": {},
   "source": [
    "<details><summary><b>Lời giải</b></summary>\n",
    "<p>\n",
    "\n",
    "```python\n",
    "def calculate_arithmetic_mean(Y):\n",
    "    answer = 0\n",
    "    n = len(Y)\n",
    "    for i in range(n):\n",
    "        answer += Y[i]\n",
    "    answer = answer / n\n",
    "    return answer\n",
    "```\n",
    "<p></details>"
   ]
  },
  {
   "cell_type": "markdown",
   "metadata": {},
   "source": [
    "### CONG_THUC_02\n"
   ]
  },
  {
   "cell_type": "markdown",
   "metadata": {},
   "source": [
    "Một công thức tính trung bình khác  đó là trung bình hình học\n",
    "\n",
    "$$ \n",
    "\\Large \\left(\\prod _{i=1}^{n}y_{i}\\right)^{\\frac {1}{n}}={\\sqrt[{n}]{y_{1} \\times y_{2} \\times \\cdots \\times y_{n}}}\n",
    "$$ \n",
    "\n",
    "Yêu cầu viết một hàm tính geometric mean theo công thức trên.\n",
    "\n",
    "Lưu ý: Python index bắt đầu từ 0, nhưng trong toán học sẽ bắt đầu từ 1\n",
    "\n",
    "Để tính lũy thừa của 1 số ta dùng hàm `pow()`.\n",
    "\n",
    "- Ví dụ để tính lũy thừa 3 của 2 ta dùng `pow(2, 3)`\n",
    "\n",
    "- Ví dụ để tính căn bậc 3 của 2 ta dùng `pow(2, 1/3)`\n",
    "\n",
    "```python\n",
    "def calculate_geometric_mean(Y):\n",
    "    answer = 1\n",
    "    n = __\n",
    "    for i in range(__):\n",
    "        ..\n",
    "    return answer\n",
    "```\n",
    "\n",
    "\n",
    "**Test case**\n",
    "\n",
    "|Ví dụ|Kết quả|\n",
    "|:--|:----------|\n",
    "|`calculate_geometric_mean([1, 2, 3, 4, 5])`|2.605171084697352|\n",
    "|`calculate_geometric_mean([2, 4, 6, 8])`|4.426727678801286|"
   ]
  },
  {
   "cell_type": "code",
   "execution_count": 17,
   "metadata": {},
   "outputs": [
    {
     "ename": "SyntaxError",
     "evalue": "invalid syntax (1974230545.py, line 5)",
     "output_type": "error",
     "traceback": [
      "\u001b[1;36m  Cell \u001b[1;32mIn[17], line 5\u001b[1;36m\u001b[0m\n\u001b[1;33m    ..\u001b[0m\n\u001b[1;37m    ^\u001b[0m\n\u001b[1;31mSyntaxError\u001b[0m\u001b[1;31m:\u001b[0m invalid syntax\n"
     ]
    }
   ],
   "source": [
    "def calculate_geometric_mean(Y):\n",
    "    answer = 1\n",
    "    n = __\n",
    "    for i in range(__):\n",
    "        ..\n",
    "    return answer"
   ]
  },
  {
   "cell_type": "markdown",
   "metadata": {},
   "source": [
    "<details><summary><b>Lời giải</b></summary>\n",
    "<p>\n",
    "\n",
    "```python\n",
    "def calculate_geometric_mean(Y):\n",
    "    answer = 1\n",
    "    n = len(Y)\n",
    "    for i in range(n):\n",
    "        answer *= Y[i]\n",
    "    answer = math.pow(answer, 1/n)\n",
    "    return answer\n",
    "```\n",
    "<p></details>\n"
   ]
  },
  {
   "cell_type": "markdown",
   "metadata": {},
   "source": [
    "## Bài tập Nâng cao"
   ]
  },
  {
   "cell_type": "markdown",
   "metadata": {},
   "source": [
    "### UCLN"
   ]
  },
  {
   "cell_type": "markdown",
   "metadata": {},
   "source": [
    "Viết hàm tìm Ước chung lớn nhất của hai số  nguyên dương `a`, `b`\n",
    "\n",
    "\n",
    "```python\n",
    "def findUCLN(a, b):\n",
    "    ..\n",
    "    return __\n",
    "```\n",
    "\n",
    "\n",
    "Test case:\n",
    "\n",
    "|Ví dụ|Kết quả|\n",
    "|:--|:----------|\n",
    "|`findUCLN(50, 20)`|10|\n",
    "|`findUCLN(60, 520)`|20|\n",
    "\n",
    "**Lưu ý**: không sử dụng hàm cho sẵn `math.gcd(a, b)` "
   ]
  },
  {
   "cell_type": "code",
   "execution_count": null,
   "metadata": {},
   "outputs": [],
   "source": [
    "def findUCLN(a, b):\n",
    "    ..\n",
    "    return __"
   ]
  },
  {
   "cell_type": "markdown",
   "metadata": {},
   "source": [
    "<details><summary><b>Lời giải</b></summary>\n",
    "<p>\n",
    "\n",
    "```python\n",
    "def findUCLN(a, b):\n",
    "    while b != 0:\n",
    "        temp = b\n",
    "        b = a % b\n",
    "        a = temp\n",
    "        # a, b = b, a % b\n",
    "    return a\n",
    "```\n",
    "</p></details>"
   ]
  },
  {
   "cell_type": "markdown",
   "metadata": {},
   "source": [
    "### BCNN\n"
   ]
  },
  {
   "cell_type": "markdown",
   "metadata": {},
   "source": [
    "Viết hàm tìm Bội chung nhỏ nhất của hai số nguyên dương `a`, `b`\n",
    "\n",
    "```python\n",
    "def findBCNN(a, b):\n",
    "    ..\n",
    "    ..\n",
    "    return __\n",
    "```\n",
    "\n",
    "Test case:\n",
    "\n",
    "|Ví dụ|Kết quả|\n",
    "|:--|:----------|\n",
    "|`findBCNN(8, 6)`|24|\n",
    "|`findBCNN(30, 520)`|1560|\n",
    "\n",
    "**Lưu ý**: không sử dụng hàm cho sẵn `math.lcm(a, b)` \n"
   ]
  },
  {
   "cell_type": "code",
   "execution_count": null,
   "metadata": {},
   "outputs": [],
   "source": [
    "def findBCNN(a, b):\n",
    "    ..\n",
    "    ..\n",
    "    return __"
   ]
  },
  {
   "cell_type": "markdown",
   "metadata": {},
   "source": [
    "<details><summary><b>Lời giải</b></summary>\n",
    "<p>\n",
    "\n",
    "```python\n",
    "def findBCNN(a, b):\n",
    "    answer = a * b // findUCLN(a, b)\n",
    "    return answer\n",
    "```\n",
    "</p></details>"
   ]
  },
  {
   "cell_type": "markdown",
   "metadata": {},
   "source": [
    "### RUT_GON_DA_THUC_01\n"
   ]
  },
  {
   "cell_type": "markdown",
   "metadata": {},
   "source": [
    "Viết một hàm nhận một đa thức  và trả ra đa thức rút gọn sắp xếp theo trình tự giảm dần của bậc.\n",
    "`^` là kí hiệu cho dấu lũy thừa\n",
    "\n",
    "Ràng buộc:\n",
    "\n",
    "- Các hệ số không âm, giữa các hệ số và `x` sẽ là dấu `*` đại diện cho dấu nhân\n",
    "- phép tính giữa các đơn thức là phép `+`\n",
    "\n",
    "\n",
    "```python\n",
    "def rut_gon_da_thuc(dathuc):\n",
    "    return __\n",
    "```\n",
    "\n",
    "**Test case**\n",
    "\n",
    "|Ví dụ|Kết quả|\n",
    "|:--|:----------|\n",
    "|`rut_gon_da_thuc(\"3*x^2 + 2*x + 2*x^2\")`|\"5\\*x^2 + 2\\*x\"|\n",
    "|`rut_gon_da_thuc(\"2*x + 2*x^2 + 5*x + 3\")`|\"2\\*x^2 + 7\\*x + 3\"|\n",
    "|`rut_gon_da_thuc(\"3*x^5 + 2*x + 2*x^5 + 4*x\")`|\"5\\*x^5 + 6\\*x\"|"
   ]
  },
  {
   "cell_type": "code",
   "execution_count": null,
   "metadata": {},
   "outputs": [],
   "source": [
    "def rut_gon_da_thuc(dathuc):\n",
    "    return __"
   ]
  },
  {
   "cell_type": "markdown",
   "metadata": {},
   "source": [
    "<details><summary><b>Lời giải</b></summary>\n",
    "<p>\n",
    "\n",
    "```python\n",
    "def rut_gon_da_thuc(da_thuc):\n",
    "    # Tách biệt các hạng tử\n",
    "    hts = da_thuc.split(\" + \")\n",
    "    print(hts)\n",
    "    # Tạo một từ điển để lưu trữ số lượng và hạng tử\n",
    "    thong_ke = {}\n",
    "    \n",
    "    for ht in hts:\n",
    "        print(ht)\n",
    "        if '*' not in ht:\n",
    "            he_so, bac = ht, 0\n",
    "        else:\n",
    "            he_so, bac = ht.split(\"*x\")\n",
    "            print(he_so, bac)\n",
    "            if \"^\" in bac:\n",
    "                bac = int(bac.split(\"^\")[1])\n",
    "            else:\n",
    "                bac = 1\n",
    "        # Cập nhật số lượng và hạng tử trong từ điển\n",
    "        if bac in thong_ke:\n",
    "            thong_ke[bac] += int(he_so)\n",
    "        else:\n",
    "            thong_ke[bac] = int(he_so)\n",
    "    \n",
    "    print(thong_ke)\n",
    "    # Tạo đa thức đã rút gọn\n",
    "    da_thuc_rut_gon = \"\"\n",
    "    for bac, he_so in sorted(thong_ke.items(), reverse=True):\n",
    "        if he_so != 0:\n",
    "            if bac >=2 :\n",
    "                da_thuc_rut_gon += f\"{he_so}*x^{bac} + \"\n",
    "            elif bac == 1:\n",
    "                da_thuc_rut_gon += f\"{he_so}*x + \"\n",
    "            else:\n",
    "                da_thuc_rut_gon += str(he_so)\n",
    "    \n",
    "    # Loại bỏ dấu + cuối cùng\n",
    "    da_thuc_rut_gon = da_thuc_rut_gon.rstrip(\" + \")\n",
    "    \n",
    "    return da_thuc_rut_gon\n",
    "```\n",
    "</p></details>"
   ]
  },
  {
   "cell_type": "markdown",
   "metadata": {},
   "source": []
  }
 ],
 "metadata": {
  "kernelspec": {
   "display_name": "base",
   "language": "python",
   "name": "python3"
  },
  "language_info": {
   "codemirror_mode": {
    "name": "ipython",
    "version": 3
   },
   "file_extension": ".py",
   "mimetype": "text/x-python",
   "name": "python",
   "nbconvert_exporter": "python",
   "pygments_lexer": "ipython3",
   "version": "3.10.9"
  }
 },
 "nbformat": 4,
 "nbformat_minor": 2
}
