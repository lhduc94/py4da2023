{
 "cells": [
  {
   "cell_type": "code",
   "execution_count": 3,
   "metadata": {},
   "outputs": [],
   "source": [
    "def ATM(money):\n",
    "    l = [50, 20, 10, 5, 2, 1]\n",
    "    answer = [0, 0, 0, 0, 0, 0]\n",
    "    for i in range(len(l)):\n",
    "        answer[i] = money // l[i]\n",
    "        money = money % l[i]\n",
    "    return sum(answer)"
   ]
  },
  {
   "cell_type": "code",
   "execution_count": 7,
   "metadata": {},
   "outputs": [
    {
     "data": {
      "text/plain": [
       "4"
      ]
     },
     "execution_count": 7,
     "metadata": {},
     "output_type": "execute_result"
    }
   ],
   "source": [
    "ATM(121)"
   ]
  },
  {
   "cell_type": "code",
   "execution_count": 8,
   "metadata": {},
   "outputs": [],
   "source": [
    "import sympy as sp\n"
   ]
  },
  {
   "cell_type": "code",
   "execution_count": 13,
   "metadata": {},
   "outputs": [
    {
     "name": "stdout",
     "output_type": "stream",
     "text": [
      "x*(5*x + 2)\n"
     ]
    }
   ],
   "source": [
    "x = sp.symbols('x')\n",
    "polynomial = \"3*x^2 + 2*x + 2*x^2\"\n",
    "\n",
    "reduced_polynomial = sp.simplify(polynomial)\n",
    "print(reduced_polynomial)"
   ]
  },
  {
   "cell_type": "code",
   "execution_count": 11,
   "metadata": {},
   "outputs": [
    {
     "name": "stdout",
     "output_type": "stream",
     "text": [
      "x*(5*x + 2)\n"
     ]
    }
   ],
   "source": [
    "factored_polynomial = sp.factor(polynomial)\n",
    "print(factored_polynomial)"
   ]
  },
  {
   "cell_type": "code",
   "execution_count": 53,
   "metadata": {},
   "outputs": [],
   "source": [
    "def rut_gon_da_thuc(da_thuc):\n",
    "    # Tách biệt các hạng tử\n",
    "    hts = da_thuc.split(\" + \")\n",
    "    print(hts)\n",
    "    # Tạo một từ điển để lưu trữ số lượng và hạng tử\n",
    "    thong_ke = {}\n",
    "    \n",
    "    for ht in hts:\n",
    "        print(ht)\n",
    "        if '*' not in ht:\n",
    "            he_so, bac = ht, 0\n",
    "        else:\n",
    "            he_so, bac = ht.split(\"*x\")\n",
    "            print(he_so, bac)\n",
    "            if \"^\" in bac:\n",
    "                bac = int(bac.split(\"^\")[1])\n",
    "            else:\n",
    "                bac = 1\n",
    "        # Cập nhật số lượng và hạng tử trong từ điển\n",
    "        if bac in thong_ke:\n",
    "            thong_ke[bac] += int(he_so)\n",
    "        else:\n",
    "            thong_ke[bac] = int(he_so)\n",
    "    \n",
    "    print(thong_ke)\n",
    "    # Tạo đa thức đã rút gọn\n",
    "    da_thuc_rut_gon = \"\"\n",
    "    for bac, he_so in sorted(thong_ke.items(), reverse=True):\n",
    "        if he_so != 0:\n",
    "            if bac == 2:\n",
    "                da_thuc_rut_gon += f\"{he_so}x^2 + \"\n",
    "            elif bac == 1:\n",
    "                da_thuc_rut_gon += f\"{he_so}x + \"\n",
    "            else:\n",
    "                da_thuc_rut_gon += str(he_so)\n",
    "    \n",
    "    # Loại bỏ dấu + cuối cùng\n",
    "    da_thuc_rut_gon = da_thuc_rut_gon.rstrip(\" + \")\n",
    "    \n",
    "    return da_thuc_rut_gon"
   ]
  },
  {
   "cell_type": "code",
   "execution_count": 55,
   "metadata": {},
   "outputs": [
    {
     "name": "stdout",
     "output_type": "stream",
     "text": [
      "['3*x^2', '2*x', '2*x^2']\n",
      "3*x^2\n",
      "3 ^2\n",
      "2*x\n",
      "2 \n",
      "2*x^2\n",
      "2 ^2\n",
      "{2: 5, 1: 2}\n"
     ]
    },
    {
     "data": {
      "text/plain": [
       "'5x^2 + 2x^1'"
      ]
     },
     "execution_count": 55,
     "metadata": {},
     "output_type": "execute_result"
    }
   ],
   "source": [
    "rut_gon_da_thuc(\"3*x^2 + 2*x + 2*x^2\")"
   ]
  },
  {
   "cell_type": "code",
   "execution_count": 56,
   "metadata": {},
   "outputs": [
    {
     "name": "stdout",
     "output_type": "stream",
     "text": [
      "['2*x', '2*x^2', '5*x', '3']\n",
      "2*x\n",
      "2 \n",
      "2*x^2\n",
      "2 ^2\n",
      "5*x\n",
      "5 \n",
      "3\n",
      "{1: 7, 2: 2, 0: 3}\n"
     ]
    },
    {
     "data": {
      "text/plain": [
       "'2x^2 + 7x^1 + 3'"
      ]
     },
     "execution_count": 56,
     "metadata": {},
     "output_type": "execute_result"
    }
   ],
   "source": [
    "rut_gon_da_thuc(\"2*x + 2*x^2 + 5*x + 3\")"
   ]
  },
  {
   "cell_type": "code",
   "execution_count": 25,
   "metadata": {},
   "outputs": [],
   "source": [
    "hts = ['3*x**2', '2*x', '2*x**2']"
   ]
  },
  {
   "cell_type": "code",
   "execution_count": 27,
   "metadata": {},
   "outputs": [],
   "source": [
    "he_so, bac = hts[0].split('*x')"
   ]
  },
  {
   "cell_type": "code",
   "execution_count": 34,
   "metadata": {},
   "outputs": [],
   "source": [
    "ht = \"3*x**2\""
   ]
  },
  {
   "cell_type": "code",
   "execution_count": null,
   "metadata": {},
   "outputs": [],
   "source": []
  }
 ],
 "metadata": {
  "kernelspec": {
   "display_name": "base",
   "language": "python",
   "name": "python3"
  },
  "language_info": {
   "codemirror_mode": {
    "name": "ipython",
    "version": 3
   },
   "file_extension": ".py",
   "mimetype": "text/x-python",
   "name": "python",
   "nbconvert_exporter": "python",
   "pygments_lexer": "ipython3",
   "version": "3.10.9"
  }
 },
 "nbformat": 4,
 "nbformat_minor": 2
}
